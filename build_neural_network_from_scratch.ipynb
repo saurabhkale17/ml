{
  "nbformat": 4,
  "nbformat_minor": 0,
  "metadata": {
    "colab": {
      "provenance": [],
      "authorship_tag": "ABX9TyNfPDhAzuTZy9hxdl76m0bW",
      "include_colab_link": true
    },
    "kernelspec": {
      "name": "python3",
      "display_name": "Python 3"
    },
    "language_info": {
      "name": "python"
    }
  },
  "cells": [
    {
      "cell_type": "markdown",
      "metadata": {
        "id": "view-in-github",
        "colab_type": "text"
      },
      "source": [
        "<a href=\"https://colab.research.google.com/github/saurabhkale17/ml/blob/main/build_neural_network_from_scratch.ipynb\" target=\"_parent\"><img src=\"https://colab.research.google.com/assets/colab-badge.svg\" alt=\"Open In Colab\"/></a>"
      ]
    },
    {
      "cell_type": "code",
      "source": [
        "import numpy as np\n",
        "import pandas as pd\n",
        "import seaborn as sns\n",
        "import matplotlib.pyplot as plt\n",
        "\n",
        "from sklearn.preprocessing import StandardScaler\n",
        "from sklearn.model_selection import train_test_split\n",
        "from sklearn.metrics import accuracy_score, confusion_matrix, classification_report"
      ],
      "metadata": {
        "id": "AGoVKs27l6dI"
      },
      "execution_count": 1,
      "outputs": []
    },
    {
      "cell_type": "markdown",
      "source": [
        "Heart attack prediction: Dataset source: https://www.kaggle.com/datasets/rashikrahmanpritom/heart-attack-analysis-prediction-dataset?resource=download"
      ],
      "metadata": {
        "id": "bO7SftwGnCXy"
      }
    },
    {
      "cell_type": "code",
      "source": [
        "df = pd.read_csv('heart.csv')\n",
        "print(df.head())"
      ],
      "metadata": {
        "colab": {
          "base_uri": "https://localhost:8080/"
        },
        "id": "GLPbi1MImLsm",
        "outputId": "88727522-03d9-4308-ecd3-944ec54f4dd8"
      },
      "execution_count": 2,
      "outputs": [
        {
          "output_type": "stream",
          "name": "stdout",
          "text": [
            "   age  sex  cp  trtbps  chol  fbs  restecg  thalachh  exng  oldpeak  slp  \\\n",
            "0   63    1   3     145   233    1        0       150     0      2.3    0   \n",
            "1   37    1   2     130   250    0        1       187     0      3.5    0   \n",
            "2   41    0   1     130   204    0        0       172     0      1.4    2   \n",
            "3   56    1   1     120   236    0        1       178     0      0.8    2   \n",
            "4   57    0   0     120   354    0        1       163     1      0.6    2   \n",
            "\n",
            "   caa  thall  output  \n",
            "0    0      1       1  \n",
            "1    0      2       1  \n",
            "2    0      2       1  \n",
            "3    0      2       1  \n",
            "4    0      2       1  \n"
          ]
        }
      ]
    },
    {
      "cell_type": "markdown",
      "source": [
        "Seperate X and y pairs from the original dataset"
      ],
      "metadata": {
        "id": "wxevIkRjnq6k"
      }
    },
    {
      "cell_type": "code",
      "source": [
        "X = np.array(df.loc[:, df.columns != 'output'])\n",
        "y = np.array(df['output'])\n",
        "\n",
        "print(\"X shape : \", X.shape)\n",
        "print(\"y shape : \", y.shape)"
      ],
      "metadata": {
        "colab": {
          "base_uri": "https://localhost:8080/"
        },
        "id": "SMzoKO6FnqXy",
        "outputId": "392efa44-5741-432a-ea08-7e9bc187dacd"
      },
      "execution_count": 3,
      "outputs": [
        {
          "output_type": "stream",
          "name": "stdout",
          "text": [
            "X shape :  (303, 13)\n",
            "y shape :  (303,)\n"
          ]
        }
      ]
    },
    {
      "cell_type": "markdown",
      "source": [
        "Train test split using sklearn"
      ],
      "metadata": {
        "id": "2Uz2_2Vpn45g"
      }
    },
    {
      "cell_type": "code",
      "source": [
        "X_train, X_test, y_train, y_test = train_test_split(X, y, test_size=0.2, random_state=123)"
      ],
      "metadata": {
        "id": "SNJW4I2Qm7cw"
      },
      "execution_count": 4,
      "outputs": []
    },
    {
      "cell_type": "markdown",
      "source": [
        "Preprocessing: Feature standardization\n",
        "\n",
        "\n",
        "*   Subtract by mean\n",
        "*   Variance of 1\n",
        "\n"
      ],
      "metadata": {
        "id": "Gu5OXbkmoelP"
      }
    },
    {
      "cell_type": "code",
      "source": [
        "scaler = StandardScaler()\n",
        "X_train_scale = scaler.fit_transform(X_train)\n",
        "X_test_scale = scaler.transform(X_test)\n",
        "\n",
        "print(X_train_scale.shape)\n",
        "print(X_test_scale.shape)\n",
        "\n",
        "# print(X_train_scale)"
      ],
      "metadata": {
        "colab": {
          "base_uri": "https://localhost:8080/"
        },
        "id": "ebdHKKORoG7N",
        "outputId": "08c47c2a-8314-4ced-f063-e663dd77da77"
      },
      "execution_count": 5,
      "outputs": [
        {
          "output_type": "stream",
          "name": "stdout",
          "text": [
            "(242, 13)\n",
            "(61, 13)\n"
          ]
        }
      ]
    },
    {
      "cell_type": "markdown",
      "source": [
        "# Develop DL model"
      ],
      "metadata": {
        "id": "-auF9CfUp1Qa"
      }
    },
    {
      "cell_type": "code",
      "source": [
        "class NeuralNetworkFromScratch:\n",
        "    def __init__(self, LR, X_train, y_train, X_test, y_test):\n",
        "        self.w = np.random.randn(X_train.shape[1])\n",
        "        self.b = np.random.randn()\n",
        "        self.LR = LR\n",
        "        self.X_train = X_train\n",
        "        self.y_train = y_train\n",
        "        self.X_test = X_test\n",
        "        self.y_test = y_test\n",
        "        self.L_train = []\n",
        "        self.L_test = []\n",
        "\n",
        "    def activation(self, x):\n",
        "        # sigmoid in our case\n",
        "        return 1 / (1 + np.exp(-x))\n",
        "\n",
        "    def dactivation(self, x):\n",
        "        # derivative of sigmoid\n",
        "        return self.activation(x) * (1 - self.activation(x))\n",
        "\n",
        "    def forward(self, X):\n",
        "        hidden_1 = np.dot(X, self.w) + self.b\n",
        "        activate_1 = self.activation(hidden_1)\n",
        "        return activate_1\n",
        "\n",
        "    def backward(self, X, y_true):\n",
        "        # calc gradients\n",
        "        hidden_1 = np.dot(X, self.w) + self.b\n",
        "        y_pred = self.forward(X)\n",
        "        dL_dpred = 2 * (y_pred - y_true)\n",
        "        dpred_dhidden1 = self.dactivation(hidden_1)\n",
        "        dhidden1_db = 1\n",
        "        dhidden1_dw = X\n",
        "\n",
        "        dL_db = dL_dpred * dpred_dhidden1 * dhidden1_db\n",
        "        dL_dw = dL_dpred * dpred_dhidden1 * dhidden1_dw\n",
        "        return dL_db, dL_dw\n",
        "\n",
        "    def optimizer(self, dL_db, dL_dw):\n",
        "        # update weights\n",
        "        self.b = self.b - dL_db * self.LR\n",
        "        self.w = self.w - dL_dw * self.LR\n",
        "\n",
        "    def train(self, ITERATIONS):\n",
        "        for i in range(ITERATIONS):\n",
        "            # random position\n",
        "            random_pos = np.random.randint(len(self.X_train))\n",
        "\n",
        "            # forward pass\n",
        "            y_train_true = self.y_train[random_pos]\n",
        "            y_train_pred = self.forward(self.X_train[random_pos])\n",
        "\n",
        "            # calc training loss\n",
        "            L = np.sum(np.square(y_train_pred - y_train_true))\n",
        "            self.L_train.append(L)\n",
        "\n",
        "            # calc gradients\n",
        "            dL_db, dL_dw = self.backward(\n",
        "                self.X_train[random_pos], self.y_train[random_pos]\n",
        "            )\n",
        "            # update weights\n",
        "            self.optimizer(dL_db, dL_dw)\n",
        "\n",
        "            # calc error at every epoch end\n",
        "            L_sum = 0\n",
        "            for j in range(len(self.X_test)):\n",
        "                y_true = self.y_test[j]\n",
        "                y_pred = self.forward(self.X_test[j])\n",
        "                L_sum += np.square(y_pred - y_true)\n",
        "            self.L_test.append(L_sum)\n",
        "\n",
        "        return \"training successfully finished\""
      ],
      "metadata": {
        "id": "GTcQOtoNzd2p"
      },
      "execution_count": 6,
      "outputs": []
    },
    {
      "cell_type": "markdown",
      "source": [
        "Setup Hyperparameters"
      ],
      "metadata": {
        "id": "FoKSFdW0vyr7"
      }
    },
    {
      "cell_type": "code",
      "source": [
        "LR = 0.1\n",
        "num_iter = 1000"
      ],
      "metadata": {
        "id": "1DAUlrlZvxsf"
      },
      "execution_count": 7,
      "outputs": []
    },
    {
      "cell_type": "markdown",
      "source": [
        "Instantiate nn model class object"
      ],
      "metadata": {
        "id": "Z8DZQQhIwF9W"
      }
    },
    {
      "cell_type": "code",
      "source": [
        "nn = NeuralNetworkFromScratch(LR, X_train_scale, y_train, X_test_scale, y_test)\n",
        "\n",
        "nn.train(num_iter)\n"
      ],
      "metadata": {
        "colab": {
          "base_uri": "https://localhost:8080/",
          "height": 35
        },
        "id": "HSHQ3T6dv64z",
        "outputId": "5a477f51-f8ef-42d1-b898-de5514beba9f"
      },
      "execution_count": 8,
      "outputs": [
        {
          "output_type": "execute_result",
          "data": {
            "text/plain": [
              "'training successfully finished'"
            ],
            "application/vnd.google.colaboratory.intrinsic+json": {
              "type": "string"
            }
          },
          "metadata": {},
          "execution_count": 8
        }
      ]
    },
    {
      "cell_type": "markdown",
      "source": [
        "Model performance vizualization"
      ],
      "metadata": {
        "id": "5zLnhVC9xK-1"
      }
    },
    {
      "cell_type": "code",
      "source": [
        "sns.lineplot(x = list(range(len(nn.L_test))), y = nn.L_test)"
      ],
      "metadata": {
        "colab": {
          "base_uri": "https://localhost:8080/",
          "height": 447
        },
        "id": "z_sp7tDXwTyD",
        "outputId": "1a92bd5f-8f6a-4ea8-cd6b-c436c9659827"
      },
      "execution_count": 9,
      "outputs": [
        {
          "output_type": "execute_result",
          "data": {
            "text/plain": [
              "<Axes: >"
            ]
          },
          "metadata": {},
          "execution_count": 9
        },
        {
          "output_type": "display_data",
          "data": {
            "text/plain": [
              "<Figure size 640x480 with 1 Axes>"
            ],
            "image/png": "[encoded data removed]"
          },
          "metadata": {}
        }
      ]
    },
    {
      "cell_type": "markdown",
      "source": [
        "Performance on test data"
      ],
      "metadata": {
        "id": "oCU7Gchpzr1p"
      }
    },
    {
      "cell_type": "code",
      "source": [
        "total = X_test_scale.shape[0]\n",
        "correct = 0\n",
        "\n",
        "y_preds = []\n",
        "\n",
        "for i in range(total):\n",
        "  y_true = y_test[i]\n",
        "  y_pred = np.round(nn.forward(X_test_scale[i]))\n",
        "  y_preds.append(y_pred)\n",
        "\n",
        "  correct += y_true == y_pred\n",
        "\n",
        "print(\"Accuracy: \", correct / total)"
      ],
      "metadata": {
        "colab": {
          "base_uri": "https://localhost:8080/"
        },
        "id": "6qX2xJ_txj8B",
        "outputId": "ff4be07e-ce02-4585-e7c2-6b5c2db5c16f"
      },
      "execution_count": 10,
      "outputs": [
        {
          "output_type": "stream",
          "name": "stdout",
          "text": [
            "Accuracy:  0.7868852459016393\n"
          ]
        }
      ]
    },
    {
      "cell_type": "markdown",
      "source": [
        "Confusion matrix"
      ],
      "metadata": {
        "id": "DdYKfF_p0h9b"
      }
    },
    {
      "cell_type": "code",
      "source": [
        "confusion_matrix(y_test, y_preds)"
      ],
      "metadata": {
        "colab": {
          "base_uri": "https://localhost:8080/"
        },
        "id": "4MHgZSHNz2Z-",
        "outputId": "62d2bb93-0dae-46be-f5a0-0f9a8b47032a"
      },
      "execution_count": 11,
      "outputs": [
        {
          "output_type": "execute_result",
          "data": {
            "text/plain": [
              "array([[23,  7],\n",
              "       [ 6, 25]])"
            ]
          },
          "metadata": {},
          "execution_count": 11
        }
      ]
    },
    {
      "cell_type": "code",
      "source": [],
      "metadata": {
        "id": "g64kFv3C0nr2"
      },
      "execution_count": 11,
      "outputs": []
    }
  ]
}